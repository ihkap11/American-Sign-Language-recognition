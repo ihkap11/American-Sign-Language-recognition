{
 "cells": [
  {
   "cell_type": "code",
   "execution_count": 1,
   "metadata": {},
   "outputs": [
    {
     "name": "stderr",
     "output_type": "stream",
     "text": [
      "Using TensorFlow backend.\n"
     ]
    }
   ],
   "source": [
    "from cnn_model import create_model, train_model, get_score\n",
    "from generate_dataset import generate_training_dataset,  shuffle, reshape_train_test, testtrain_split\n",
    "from save_model import save_model, load_model, score_adam_optimizer,score_rmsprop_optimizer \n",
    "from preprocess_images import apply_preprocessing\n",
    "import pickle as pk"
   ]
  },
  {
   "cell_type": "code",
   "execution_count": null,
   "metadata": {},
   "outputs": [],
   "source": [
    "# generate_training_dataset()"
   ]
  },
  {
   "cell_type": "code",
   "execution_count": 2,
   "metadata": {},
   "outputs": [],
   "source": [
    "[x,y]=pk.load(open(\"dataset.pickle\",\"rb\"))\n",
    "# len(x)"
   ]
  },
  {
   "cell_type": "code",
   "execution_count": 3,
   "metadata": {
    "collapsed": true
   },
   "outputs": [],
   "source": [
    "dataset_size=len(x)\n",
    "# test_size=0.2"
   ]
  },
  {
   "cell_type": "code",
   "execution_count": null,
   "metadata": {
    "collapsed": true
   },
   "outputs": [],
   "source": []
  },
  {
   "cell_type": "code",
   "execution_count": 4,
   "metadata": {
    "collapsed": true
   },
   "outputs": [],
   "source": [
    "def train(score = True):\n",
    "    X_train, X_test, y_in, y_out = reshape_train_test(x,y)\n",
    "    model = train_model(X_train, X_test, y_in, y_out)\n",
    "    \n",
    "    if(score == True):\n",
    "        get_score(X_test, y_out, model)  \n",
    "        \n",
    "    return X_test, y_out, model\n",
    "    \n"
   ]
  },
  {
   "cell_type": "code",
   "execution_count": null,
   "metadata": {
    "collapsed": true
   },
   "outputs": [],
   "source": []
  },
  {
   "cell_type": "code",
   "execution_count": 5,
   "metadata": {
    "collapsed": true
   },
   "outputs": [],
   "source": [
    "def get_scores(loaded_model,X_test, y_out, rmsprop = False, adam = False, both = True):\n",
    "    \n",
    "    if(both == True):\n",
    "        adam = True\n",
    "        rmsprop = True\n",
    "        \n",
    "    if(adam == True):\n",
    "        score_adam_optimizer(X_test, y_out, loaded_model)\n",
    "        \n",
    "    if(rmsprop == True):\n",
    "        score_rmsprop_optimizer(X_test, y_out, loaded_model)\n",
    "        \n",
    "        \n",
    "    "
   ]
  },
  {
   "cell_type": "code",
   "execution_count": null,
   "metadata": {
    "collapsed": true
   },
   "outputs": [],
   "source": []
  },
  {
   "cell_type": "code",
   "execution_count": 6,
   "metadata": {
    "collapsed": true
   },
   "outputs": [],
   "source": [
    "def __main__():\n",
    "    \n",
    "    # running for the first time \n",
    "    # Train dataset first\n",
    "    \n",
    "  \n",
    "    \n",
    "    X_test, y_out, model = train()\n",
    "    \n",
    "    save_model(model)\n",
    "    \n",
    "    loaded_model = load_model()\n",
    "    \n",
    "\n",
    "    get_scores(loaded_model,X_test, y_out)\n",
    "    \n",
    "    "
   ]
  },
  {
   "cell_type": "code",
   "execution_count": null,
   "metadata": {
    "collapsed": true
   },
   "outputs": [],
   "source": []
  },
  {
   "cell_type": "code",
   "execution_count": null,
   "metadata": {
    "collapsed": true
   },
   "outputs": [],
   "source": []
  },
  {
   "cell_type": "code",
   "execution_count": 7,
   "metadata": {},
   "outputs": [
    {
     "name": "stdout",
     "output_type": "stream",
     "text": [
      "Train on 2012 samples, validate on 503 samples\n",
      "Epoch 1/20\n",
      "2012/2012 [==============================] - 19s - loss: 3.5415 - acc: 0.0621 - val_loss: 3.3338 - val_acc: 0.1750\n",
      "Epoch 2/20\n",
      "2012/2012 [==============================] - 20s - loss: 2.6003 - acc: 0.2858 - val_loss: 2.0844 - val_acc: 0.3579\n",
      "Epoch 3/20\n",
      "2012/2012 [==============================] - 20s - loss: 1.5371 - acc: 0.5353 - val_loss: 1.2441 - val_acc: 0.6064\n",
      "Epoch 4/20\n",
      "2012/2012 [==============================] - 19s - loss: 0.9533 - acc: 0.7073 - val_loss: 0.9404 - val_acc: 0.7018\n",
      "Epoch 5/20\n",
      "2012/2012 [==============================] - 18s - loss: 0.6159 - acc: 0.7992 - val_loss: 0.6643 - val_acc: 0.7853\n",
      "Epoch 6/20\n",
      "2012/2012 [==============================] - 18s - loss: 0.4160 - acc: 0.8698 - val_loss: 0.4593 - val_acc: 0.8529\n",
      "Epoch 7/20\n",
      "2012/2012 [==============================] - 18s - loss: 0.2865 - acc: 0.9081 - val_loss: 0.4118 - val_acc: 0.8728\n",
      "Epoch 8/20\n",
      "2012/2012 [==============================] - 18s - loss: 0.2180 - acc: 0.9309 - val_loss: 0.3988 - val_acc: 0.8807\n",
      "Epoch 9/20\n",
      "2012/2012 [==============================] - 18s - loss: 0.1726 - acc: 0.9468 - val_loss: 0.3110 - val_acc: 0.9125\n",
      "Epoch 10/20\n",
      "2012/2012 [==============================] - 18s - loss: 0.1196 - acc: 0.9642 - val_loss: 0.2820 - val_acc: 0.9185\n",
      "Epoch 11/20\n",
      "2012/2012 [==============================] - 29s - loss: 0.0879 - acc: 0.9722 - val_loss: 0.2651 - val_acc: 0.9264\n",
      "Epoch 12/20\n",
      "2012/2012 [==============================] - 18s - loss: 0.0774 - acc: 0.9791 - val_loss: 0.2808 - val_acc: 0.9145\n",
      "Epoch 13/20\n",
      "2012/2012 [==============================] - 17s - loss: 0.0564 - acc: 0.9866 - val_loss: 0.2718 - val_acc: 0.9264\n",
      "Epoch 14/20\n",
      "2012/2012 [==============================] - 18s - loss: 0.0565 - acc: 0.9801 - val_loss: 0.3069 - val_acc: 0.9264\n",
      "Epoch 15/20\n",
      "2012/2012 [==============================] - 28s - loss: 0.0500 - acc: 0.9871 - val_loss: 0.2925 - val_acc: 0.9165\n",
      "Epoch 16/20\n",
      "2012/2012 [==============================] - 20s - loss: 0.0398 - acc: 0.9901 - val_loss: 0.2157 - val_acc: 0.9463\n",
      "Epoch 17/20\n",
      "2012/2012 [==============================] - 27s - loss: 0.0195 - acc: 0.9960 - val_loss: 0.2113 - val_acc: 0.9483\n",
      "Epoch 18/20\n",
      "2012/2012 [==============================] - 25s - loss: 0.0145 - acc: 0.9975 - val_loss: 0.2206 - val_acc: 0.9463\n",
      "Epoch 19/20\n",
      "2012/2012 [==============================] - 19s - loss: 0.0161 - acc: 0.9965 - val_loss: 0.2098 - val_acc: 0.9503\n",
      "Epoch 20/20\n",
      "2012/2012 [==============================] - 20s - loss: 0.0064 - acc: 0.9995 - val_loss: 0.1958 - val_acc: 0.9583\n",
      "503/503 [==============================] - 1s     \n",
      "acc: 95.83%\n",
      "loss: 19.58%\n",
      "Saved model to disk\n",
      "Loaded model from disk\n",
      "503/503 [==============================] - 2s     \n",
      "acc: 95.83%\n",
      "loss: 19.58%\n",
      "503/503 [==============================] - 5s     \n",
      "acc: 99.77%\n",
      "loss: 0.91%\n"
     ]
    }
   ],
   "source": [
    "#work begins here\n",
    "__main__()"
   ]
  },
  {
   "cell_type": "code",
   "execution_count": null,
   "metadata": {
    "collapsed": true
   },
   "outputs": [],
   "source": []
  },
  {
   "cell_type": "code",
   "execution_count": null,
   "metadata": {
    "collapsed": true
   },
   "outputs": [],
   "source": []
  }
 ],
 "metadata": {
  "kernelspec": {
   "display_name": "Python 3",
   "language": "python",
   "name": "python3"
  },
  "language_info": {
   "codemirror_mode": {
    "name": "ipython",
    "version": 3
   },
   "file_extension": ".py",
   "mimetype": "text/x-python",
   "name": "python",
   "nbconvert_exporter": "python",
   "pygments_lexer": "ipython3",
   "version": "3.6.1"
  }
 },
 "nbformat": 4,
 "nbformat_minor": 2
}
